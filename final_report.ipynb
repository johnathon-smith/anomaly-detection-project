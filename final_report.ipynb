{
 "cells": [
  {
   "cell_type": "markdown",
   "id": "12066408",
   "metadata": {},
   "source": [
    "# Anomaly Detection Project\n",
    "\n",
    "By: Johnathon Smith\n",
    "\n",
    "Date: Oct 22nd, 2021\n",
    "***"
   ]
  },
  {
   "cell_type": "markdown",
   "id": "eee81e0a",
   "metadata": {},
   "source": [
    "### Executive Summary\n",
    "***\n",
    "\n",
    "__Project Goal__\n",
    "\n",
    "The goal of this project was to acquire, prepare, and explore Codeup's curriculum access logs in order to answer at least five of the seven questions asked in an email we received.\n",
    "\n",
    "__Overall Findings__\n",
    "\n",
    "* The most trafficked lessons are javascript-i for full stack web developers, fundamentals for data science students, and html-css for front end developers.\n",
    "* The Ceres cohort referred to the javascript lesson far more than the other cohorts in the java full stack web development program.\n",
    "* Arches referred to javascript-i more than the other cohorts and Kings referred to content way more than the other cohorts in the php full stack web developer program.\n",
    "* The Darden cohort referred to the Classfication lesson far more than the other cohorts in the data science program.\n",
    "* There are 20 students that accessed the curriculum less than or equal to 20 times while active.\n",
    "* These students were mostly java full stack web developers, but three of them were data scientists.\n",
    "* The most common request was for javascript-i.\n",
    "* The java full stack web developer graduates are still accessing the spring and javascript-i lessons.\n",
    "* The php graduates are still accessing the content and javascript-i lessons.\n",
    "* Data science grads are accessing the fundamentals, sql, and classification lessons.\n",
    "* The front end grads are mostly accessing the html-css lessons.\n",
    "* While there are many lessons that only had a few views, some of the most prevalent sections involve regression in excel, and control-structures and promises in javascript.\n",
    "\n",
    "***\n",
    "### My Process\n",
    "\n",
    "* Write a README.md file that details my process, my findings, and instructions on how to recreate my project.\n",
    "* Acquire the Codeup Curriculum access logs from the Codeup database.\n",
    "* Clean and prepare the access log data:\n",
    "    * Added information for the student's program\n",
    "    * Created columns for access year, month, day, and hour\n",
    "    * Created columns that identify each user as graduates or current students\n",
    "    * Split the path string along each '/' character for easier exploration.\n",
    "    * Drop unnecessary columns.\n",
    "    * Finally, convert the date column to a datetime object and set it as the index.\n",
    "* There will be no modeling for this project, so I will not split the data into train, validate, and test before exploration.\n",
    "* Explore the data and look for anomalous behavior or events.\n",
    "* Document conclusions, takeaways, and next steps in the Final Report Notebook.\n",
    "\n",
    "***\n",
    "\n",
    "### Necessary Imports"
   ]
  },
  {
   "cell_type": "code",
   "execution_count": 1,
   "id": "086a9c58",
   "metadata": {},
   "outputs": [],
   "source": [
    "import numpy as np\n",
    "import pandas as pd\n",
    "\n",
    "#For data acquisition and prep\n",
    "import wrangle\n",
    "\n",
    "#For visualizations\n",
    "import matplotlib.pyplot as plt\n",
    "import seaborn as sns"
   ]
  },
  {
   "cell_type": "markdown",
   "id": "03c2ae64",
   "metadata": {},
   "source": [
    "### Acquire\n",
    "***\n",
    "\n",
    "__Data Dictionary__\n",
    "\n",
    "| Feature | Datatype | Definition |\n",
    "|:--------|:---------|:------------|\n",
    "| path | object | The original request path |\n",
    "| user_id | int | An arbitrary number assigned to each unique user |\n",
    "| cohort | object | The cohort the user belongs to |\n",
    "| ip | object | The ip address of the network the user made the request from |\n",
    "| start_date | object | The start date of the user's cohort |\n",
    "| end_date | object | The end date of the user's cohort |\n",
    "| program | object | The program the user is/was enrolled in |\n",
    "| subdomain | object | The focus of the program the user is/was enrolled in |\n",
    "| year | int | The year the curriculum was accessed |\n",
    "| month | object | The month the curriculum was accessed |\n",
    "| day | object | The day of the week the curriculum was accessed |\n",
    "| hour | int | The hour of the day the curriculum was accessed |\n",
    "| is_graduate | bool | Indicates whether or not the user is a graduate of Codeup |\n",
    "| current_student | bool | Indicates whether or not the user is a current student at Codeup |\n",
    "| request_section | object | The first section of the path string |\n",
    "| request_subject | object | The second section of the path string |\n",
    "| request_lesson | object | The third section of the path string |\n",
    "| param_4 | object | The fourth section of the path string |\n",
    "| param_5 | object | The fifth section of the path string |\n",
    "| param_6 | object | The sixth section of the path string |\n",
    "| param_7 | object | The seventh section of the path string |\n",
    "| param_8 | object | The eighth section of the path string |"
   ]
  },
  {
   "cell_type": "markdown",
   "id": "509012a2",
   "metadata": {},
   "source": [
    "__Wrangle the Data__\n",
    "\n",
    "This project requires that you have your own env.py file to access the Codeup Database. Please ensure you have one in your working directory before attempting to recreate the project."
   ]
  },
  {
   "cell_type": "code",
   "execution_count": 2,
   "id": "a8745807",
   "metadata": {},
   "outputs": [],
   "source": [
    "#This function call will acquire and prepare the data for use in the project\n",
    "logs = wrangle.wrangle_logs()"
   ]
  },
  {
   "cell_type": "code",
   "execution_count": 3,
   "id": "58047832",
   "metadata": {},
   "outputs": [
    {
     "data": {
      "text/html": [
       "<div>\n",
       "<style scoped>\n",
       "    .dataframe tbody tr th:only-of-type {\n",
       "        vertical-align: middle;\n",
       "    }\n",
       "\n",
       "    .dataframe tbody tr th {\n",
       "        vertical-align: top;\n",
       "    }\n",
       "\n",
       "    .dataframe thead th {\n",
       "        text-align: right;\n",
       "    }\n",
       "</style>\n",
       "<table border=\"1\" class=\"dataframe\">\n",
       "  <thead>\n",
       "    <tr style=\"text-align: right;\">\n",
       "      <th></th>\n",
       "      <th>path</th>\n",
       "      <th>user_id</th>\n",
       "      <th>cohort</th>\n",
       "      <th>ip</th>\n",
       "      <th>start_date</th>\n",
       "      <th>end_date</th>\n",
       "      <th>program</th>\n",
       "      <th>subdomain</th>\n",
       "      <th>year</th>\n",
       "      <th>month</th>\n",
       "      <th>...</th>\n",
       "      <th>is_graduate</th>\n",
       "      <th>current_student</th>\n",
       "      <th>request_section</th>\n",
       "      <th>request_subject</th>\n",
       "      <th>request_lesson</th>\n",
       "      <th>param_4</th>\n",
       "      <th>param_5</th>\n",
       "      <th>param_6</th>\n",
       "      <th>param_7</th>\n",
       "      <th>param_8</th>\n",
       "    </tr>\n",
       "    <tr>\n",
       "      <th>date</th>\n",
       "      <th></th>\n",
       "      <th></th>\n",
       "      <th></th>\n",
       "      <th></th>\n",
       "      <th></th>\n",
       "      <th></th>\n",
       "      <th></th>\n",
       "      <th></th>\n",
       "      <th></th>\n",
       "      <th></th>\n",
       "      <th></th>\n",
       "      <th></th>\n",
       "      <th></th>\n",
       "      <th></th>\n",
       "      <th></th>\n",
       "      <th></th>\n",
       "      <th></th>\n",
       "      <th></th>\n",
       "      <th></th>\n",
       "      <th></th>\n",
       "      <th></th>\n",
       "    </tr>\n",
       "  </thead>\n",
       "  <tbody>\n",
       "    <tr>\n",
       "      <th>2018-01-26</th>\n",
       "      <td>/</td>\n",
       "      <td>1</td>\n",
       "      <td>Hampton</td>\n",
       "      <td>97.105.19.61</td>\n",
       "      <td>2015-09-22</td>\n",
       "      <td>2016-02-06</td>\n",
       "      <td>PHP Full Stack Web Development</td>\n",
       "      <td>php</td>\n",
       "      <td>2018</td>\n",
       "      <td>January</td>\n",
       "      <td>...</td>\n",
       "      <td>True</td>\n",
       "      <td>False</td>\n",
       "      <td></td>\n",
       "      <td></td>\n",
       "      <td>None</td>\n",
       "      <td>None</td>\n",
       "      <td>None</td>\n",
       "      <td>None</td>\n",
       "      <td>None</td>\n",
       "      <td>None</td>\n",
       "    </tr>\n",
       "    <tr>\n",
       "      <th>2018-01-26</th>\n",
       "      <td>java-ii</td>\n",
       "      <td>1</td>\n",
       "      <td>Hampton</td>\n",
       "      <td>97.105.19.61</td>\n",
       "      <td>2015-09-22</td>\n",
       "      <td>2016-02-06</td>\n",
       "      <td>PHP Full Stack Web Development</td>\n",
       "      <td>php</td>\n",
       "      <td>2018</td>\n",
       "      <td>January</td>\n",
       "      <td>...</td>\n",
       "      <td>True</td>\n",
       "      <td>False</td>\n",
       "      <td>java-ii</td>\n",
       "      <td>None</td>\n",
       "      <td>None</td>\n",
       "      <td>None</td>\n",
       "      <td>None</td>\n",
       "      <td>None</td>\n",
       "      <td>None</td>\n",
       "      <td>None</td>\n",
       "    </tr>\n",
       "    <tr>\n",
       "      <th>2018-01-26</th>\n",
       "      <td>java-ii/object-oriented-programming</td>\n",
       "      <td>1</td>\n",
       "      <td>Hampton</td>\n",
       "      <td>97.105.19.61</td>\n",
       "      <td>2015-09-22</td>\n",
       "      <td>2016-02-06</td>\n",
       "      <td>PHP Full Stack Web Development</td>\n",
       "      <td>php</td>\n",
       "      <td>2018</td>\n",
       "      <td>January</td>\n",
       "      <td>...</td>\n",
       "      <td>True</td>\n",
       "      <td>False</td>\n",
       "      <td>java-ii</td>\n",
       "      <td>object-oriented-programming</td>\n",
       "      <td>None</td>\n",
       "      <td>None</td>\n",
       "      <td>None</td>\n",
       "      <td>None</td>\n",
       "      <td>None</td>\n",
       "      <td>None</td>\n",
       "    </tr>\n",
       "    <tr>\n",
       "      <th>2018-01-26</th>\n",
       "      <td>slides/object_oriented_programming</td>\n",
       "      <td>1</td>\n",
       "      <td>Hampton</td>\n",
       "      <td>97.105.19.61</td>\n",
       "      <td>2015-09-22</td>\n",
       "      <td>2016-02-06</td>\n",
       "      <td>PHP Full Stack Web Development</td>\n",
       "      <td>php</td>\n",
       "      <td>2018</td>\n",
       "      <td>January</td>\n",
       "      <td>...</td>\n",
       "      <td>True</td>\n",
       "      <td>False</td>\n",
       "      <td>slides</td>\n",
       "      <td>object_oriented_programming</td>\n",
       "      <td>None</td>\n",
       "      <td>None</td>\n",
       "      <td>None</td>\n",
       "      <td>None</td>\n",
       "      <td>None</td>\n",
       "      <td>None</td>\n",
       "    </tr>\n",
       "    <tr>\n",
       "      <th>2018-01-26</th>\n",
       "      <td>javascript-i/conditionals</td>\n",
       "      <td>2</td>\n",
       "      <td>Teddy</td>\n",
       "      <td>97.105.19.61</td>\n",
       "      <td>2018-01-08</td>\n",
       "      <td>2018-05-17</td>\n",
       "      <td>Java Full Stack Web Development</td>\n",
       "      <td>java</td>\n",
       "      <td>2018</td>\n",
       "      <td>January</td>\n",
       "      <td>...</td>\n",
       "      <td>False</td>\n",
       "      <td>True</td>\n",
       "      <td>javascript-i</td>\n",
       "      <td>conditionals</td>\n",
       "      <td>None</td>\n",
       "      <td>None</td>\n",
       "      <td>None</td>\n",
       "      <td>None</td>\n",
       "      <td>None</td>\n",
       "      <td>None</td>\n",
       "    </tr>\n",
       "  </tbody>\n",
       "</table>\n",
       "<p>5 rows × 22 columns</p>\n",
       "</div>"
      ],
      "text/plain": [
       "                                           path  user_id   cohort  \\\n",
       "date                                                                \n",
       "2018-01-26                                    /        1  Hampton   \n",
       "2018-01-26                              java-ii        1  Hampton   \n",
       "2018-01-26  java-ii/object-oriented-programming        1  Hampton   \n",
       "2018-01-26   slides/object_oriented_programming        1  Hampton   \n",
       "2018-01-26            javascript-i/conditionals        2    Teddy   \n",
       "\n",
       "                      ip  start_date    end_date  \\\n",
       "date                                               \n",
       "2018-01-26  97.105.19.61  2015-09-22  2016-02-06   \n",
       "2018-01-26  97.105.19.61  2015-09-22  2016-02-06   \n",
       "2018-01-26  97.105.19.61  2015-09-22  2016-02-06   \n",
       "2018-01-26  97.105.19.61  2015-09-22  2016-02-06   \n",
       "2018-01-26  97.105.19.61  2018-01-08  2018-05-17   \n",
       "\n",
       "                                    program subdomain  year    month  ...  \\\n",
       "date                                                                  ...   \n",
       "2018-01-26   PHP Full Stack Web Development       php  2018  January  ...   \n",
       "2018-01-26   PHP Full Stack Web Development       php  2018  January  ...   \n",
       "2018-01-26   PHP Full Stack Web Development       php  2018  January  ...   \n",
       "2018-01-26   PHP Full Stack Web Development       php  2018  January  ...   \n",
       "2018-01-26  Java Full Stack Web Development      java  2018  January  ...   \n",
       "\n",
       "           is_graduate  current_student  request_section  \\\n",
       "date                                                       \n",
       "2018-01-26        True            False                    \n",
       "2018-01-26        True            False          java-ii   \n",
       "2018-01-26        True            False          java-ii   \n",
       "2018-01-26        True            False           slides   \n",
       "2018-01-26       False             True     javascript-i   \n",
       "\n",
       "                        request_subject request_lesson param_4 param_5  \\\n",
       "date                                                                     \n",
       "2018-01-26                                        None    None    None   \n",
       "2018-01-26                         None           None    None    None   \n",
       "2018-01-26  object-oriented-programming           None    None    None   \n",
       "2018-01-26  object_oriented_programming           None    None    None   \n",
       "2018-01-26                 conditionals           None    None    None   \n",
       "\n",
       "           param_6 param_7 param_8  \n",
       "date                                \n",
       "2018-01-26    None    None    None  \n",
       "2018-01-26    None    None    None  \n",
       "2018-01-26    None    None    None  \n",
       "2018-01-26    None    None    None  \n",
       "2018-01-26    None    None    None  \n",
       "\n",
       "[5 rows x 22 columns]"
      ]
     },
     "execution_count": 3,
     "metadata": {},
     "output_type": "execute_result"
    }
   ],
   "source": [
    "#Get a brief overview of the data\n",
    "logs.head()"
   ]
  },
  {
   "cell_type": "code",
   "execution_count": 4,
   "id": "a6668495",
   "metadata": {},
   "outputs": [
    {
     "name": "stdout",
     "output_type": "stream",
     "text": [
      "<class 'pandas.core.frame.DataFrame'>\n",
      "DatetimeIndex: 900223 entries, 2018-01-26 to 2021-04-21\n",
      "Data columns (total 22 columns):\n",
      " #   Column           Non-Null Count   Dtype \n",
      "---  ------           --------------   ----- \n",
      " 0   path             900222 non-null  object\n",
      " 1   user_id          900223 non-null  int64 \n",
      " 2   cohort           847330 non-null  object\n",
      " 3   ip               900223 non-null  object\n",
      " 4   start_date       847330 non-null  object\n",
      " 5   end_date         847330 non-null  object\n",
      " 6   program          847330 non-null  object\n",
      " 7   subdomain        847330 non-null  object\n",
      " 8   year             900223 non-null  int64 \n",
      " 9   month            900223 non-null  object\n",
      " 10  day              900223 non-null  object\n",
      " 11  hour             900223 non-null  int64 \n",
      " 12  is_graduate      900223 non-null  bool  \n",
      " 13  current_student  900223 non-null  bool  \n",
      " 14  request_section  900222 non-null  object\n",
      " 15  request_subject  731934 non-null  object\n",
      " 16  request_lesson   226870 non-null  object\n",
      " 17  param_4          26309 non-null   object\n",
      " 18  param_5          1928 non-null    object\n",
      " 19  param_6          1028 non-null    object\n",
      " 20  param_7          14 non-null      object\n",
      " 21  param_8          1 non-null       object\n",
      "dtypes: bool(2), int64(3), object(17)\n",
      "memory usage: 145.9+ MB\n"
     ]
    }
   ],
   "source": [
    "logs.info()"
   ]
  },
  {
   "cell_type": "code",
   "execution_count": 5,
   "id": "8070e136",
   "metadata": {},
   "outputs": [
    {
     "data": {
      "text/html": [
       "<div>\n",
       "<style scoped>\n",
       "    .dataframe tbody tr th:only-of-type {\n",
       "        vertical-align: middle;\n",
       "    }\n",
       "\n",
       "    .dataframe tbody tr th {\n",
       "        vertical-align: top;\n",
       "    }\n",
       "\n",
       "    .dataframe thead th {\n",
       "        text-align: right;\n",
       "    }\n",
       "</style>\n",
       "<table border=\"1\" class=\"dataframe\">\n",
       "  <thead>\n",
       "    <tr style=\"text-align: right;\">\n",
       "      <th></th>\n",
       "      <th>user_id</th>\n",
       "      <th>year</th>\n",
       "      <th>hour</th>\n",
       "    </tr>\n",
       "  </thead>\n",
       "  <tbody>\n",
       "    <tr>\n",
       "      <th>count</th>\n",
       "      <td>900223.000000</td>\n",
       "      <td>900223.000000</td>\n",
       "      <td>900223.000000</td>\n",
       "    </tr>\n",
       "    <tr>\n",
       "      <th>mean</th>\n",
       "      <td>458.825707</td>\n",
       "      <td>2019.477718</td>\n",
       "      <td>12.851656</td>\n",
       "    </tr>\n",
       "    <tr>\n",
       "      <th>std</th>\n",
       "      <td>249.296767</td>\n",
       "      <td>0.960970</td>\n",
       "      <td>4.162596</td>\n",
       "    </tr>\n",
       "    <tr>\n",
       "      <th>min</th>\n",
       "      <td>1.000000</td>\n",
       "      <td>2018.000000</td>\n",
       "      <td>0.000000</td>\n",
       "    </tr>\n",
       "    <tr>\n",
       "      <th>25%</th>\n",
       "      <td>269.000000</td>\n",
       "      <td>2019.000000</td>\n",
       "      <td>10.000000</td>\n",
       "    </tr>\n",
       "    <tr>\n",
       "      <th>50%</th>\n",
       "      <td>475.000000</td>\n",
       "      <td>2020.000000</td>\n",
       "      <td>13.000000</td>\n",
       "    </tr>\n",
       "    <tr>\n",
       "      <th>75%</th>\n",
       "      <td>660.000000</td>\n",
       "      <td>2020.000000</td>\n",
       "      <td>15.000000</td>\n",
       "    </tr>\n",
       "    <tr>\n",
       "      <th>max</th>\n",
       "      <td>981.000000</td>\n",
       "      <td>2021.000000</td>\n",
       "      <td>23.000000</td>\n",
       "    </tr>\n",
       "  </tbody>\n",
       "</table>\n",
       "</div>"
      ],
      "text/plain": [
       "             user_id           year           hour\n",
       "count  900223.000000  900223.000000  900223.000000\n",
       "mean      458.825707    2019.477718      12.851656\n",
       "std       249.296767       0.960970       4.162596\n",
       "min         1.000000    2018.000000       0.000000\n",
       "25%       269.000000    2019.000000      10.000000\n",
       "50%       475.000000    2020.000000      13.000000\n",
       "75%       660.000000    2020.000000      15.000000\n",
       "max       981.000000    2021.000000      23.000000"
      ]
     },
     "execution_count": 5,
     "metadata": {},
     "output_type": "execute_result"
    }
   ],
   "source": [
    "logs.describe()"
   ]
  },
  {
   "cell_type": "markdown",
   "id": "5719ba4a",
   "metadata": {},
   "source": [
    "__Key Takeaways__\n",
    "\n",
    "* Added information for the student's program of study\n",
    "* Created columns for access year, month, day, and hour\n",
    "* Created columns that identify each user as graduates or current students\n",
    "* Split the path string along each '/' character for easier exploration.\n",
    "* Dropped unnecessary columns.\n",
    "* Finally, converted the date column to a datetime object and set it as the index.\n",
    "\n",
    "***\n",
    "\n",
    "### Explore\n",
    "\n",
    "In this section I will be answering the questions one by one."
   ]
  },
  {
   "cell_type": "markdown",
   "id": "b8a0f491",
   "metadata": {},
   "source": [
    "### Question 1\n",
    "\n",
    "__Which lesson appears to attract the most traffic consistently across cohorts (per program)?__\n",
    "\n",
    "Since this question is asking for the most consistently trafficked lesson across each program, I will separate the logs dataframe into 4 others, one for each program."
   ]
  },
  {
   "cell_type": "code",
   "execution_count": 6,
   "id": "6b5aa37e",
   "metadata": {},
   "outputs": [],
   "source": [
    "java = logs[logs.subdomain == 'java'].copy()"
   ]
  },
  {
   "cell_type": "code",
   "execution_count": 7,
   "id": "8dcaefe1",
   "metadata": {},
   "outputs": [],
   "source": [
    "php = logs[logs.subdomain == 'php'].copy()"
   ]
  },
  {
   "cell_type": "code",
   "execution_count": 8,
   "id": "0f0fa4bb",
   "metadata": {},
   "outputs": [],
   "source": [
    "ds = logs[logs.subdomain == 'ds'].copy()"
   ]
  },
  {
   "cell_type": "code",
   "execution_count": 9,
   "id": "c5ca73cf",
   "metadata": {},
   "outputs": [],
   "source": [
    "fe = logs[logs.subdomain == 'fe'].copy()"
   ]
  },
  {
   "cell_type": "markdown",
   "id": "e9dd67ab",
   "metadata": {},
   "source": [
    "What lesson is the most popular among full stack java web developers?"
   ]
  },
  {
   "cell_type": "code",
   "execution_count": 10,
   "id": "de5589c5",
   "metadata": {},
   "outputs": [
    {
     "data": {
      "text/plain": [
       "/                           0.050204\n",
       "javascript-i                0.024471\n",
       "toc                         0.024431\n",
       "search/search_index.json    0.021324\n",
       "java-iii                    0.017779\n",
       "Name: path, dtype: float64"
      ]
     },
     "execution_count": 10,
     "metadata": {},
     "output_type": "execute_result"
    }
   ],
   "source": [
    "java.path.value_counts(normalize = True).head()"
   ]
  },
  {
   "cell_type": "markdown",
   "id": "0e2682f0",
   "metadata": {},
   "source": [
    "It seems that the most trafficked lesson for full stack java web developers is javascript-i.\n",
    "\n",
    "What is the most trafficked lesson for full stack php web developers?"
   ]
  },
  {
   "cell_type": "code",
   "execution_count": 11,
   "id": "d21215b3",
   "metadata": {},
   "outputs": [
    {
     "data": {
      "text/plain": [
       "/                        0.055028\n",
       "index.html               0.033095\n",
       "javascript-i             0.024093\n",
       "html-css                 0.017743\n",
       "spring                   0.016400\n",
       "                           ...   \n",
       "4.0_overview             0.000033\n",
       "4.1_introduction         0.000033\n",
       "4.4_functions            0.000033\n",
       "4.5_imports              0.000033\n",
       "ajax-api-request.html    0.000033\n",
       "Name: path, Length: 710, dtype: float64"
      ]
     },
     "execution_count": 11,
     "metadata": {},
     "output_type": "execute_result"
    }
   ],
   "source": [
    "php.path.value_counts(normalize = True)"
   ]
  },
  {
   "cell_type": "code",
   "execution_count": 12,
   "id": "216e1713",
   "metadata": {},
   "outputs": [
    {
     "data": {
      "text/plain": [
       "content                        0.209408\n",
       "javascript-i                   0.121383\n",
       "html-css                       0.080627\n",
       "spring                         0.076077\n",
       "mysql                          0.067664\n",
       "                                 ...   \n",
       "ordinary_least_squares.jpeg    0.000033\n",
       "11._DistributedML              0.000033\n",
       "introduction-to-matplotlib     0.000033\n",
       "8.1_Overview                   0.000033\n",
       "ajax-api-request.html          0.000033\n",
       "Name: request_section, Length: 94, dtype: float64"
      ]
     },
     "execution_count": 12,
     "metadata": {},
     "output_type": "execute_result"
    }
   ],
   "source": [
    "php.request_section.value_counts(normalize = True).sort_values(ascending=False)"
   ]
  },
  {
   "cell_type": "markdown",
   "id": "b9f50297",
   "metadata": {},
   "source": [
    "It looks like the most trafficked lesson for full stack php developers is index.html and javascript-i.\n",
    "\n",
    "What is the most trafficked lesson for data science students?"
   ]
  },
  {
   "cell_type": "code",
   "execution_count": 13,
   "id": "461dac70",
   "metadata": {},
   "outputs": [
    {
     "data": {
      "text/plain": [
       "/                                           0.080823\n",
       "search/search_index.json                    0.021303\n",
       "classification/overview                     0.017261\n",
       "1-fundamentals/modern-data-scientist.jpg    0.016004\n",
       "1-fundamentals/AI-ML-DL-timeline.jpg        0.015965\n",
       "                                              ...   \n",
       "databases                                   0.000010\n",
       "sql/database                                0.000010\n",
       "fundamentals/intro-to-data-science.md       0.000010\n",
       "python/introduction-to-python.md            0.000010\n",
       "6-regression/8-Project                      0.000010\n",
       "Name: path, Length: 682, dtype: float64"
      ]
     },
     "execution_count": 13,
     "metadata": {},
     "output_type": "execute_result"
    }
   ],
   "source": [
    "ds.path.value_counts(normalize = True)"
   ]
  },
  {
   "cell_type": "code",
   "execution_count": 14,
   "id": "1161ce9a",
   "metadata": {},
   "outputs": [
    {
     "data": {
      "text/plain": [
       "fundamentals                   0.084575\n",
       "classification                 0.083357\n",
       "                               0.080823\n",
       "1-fundamentals                 0.076829\n",
       "sql                            0.072574\n",
       "                                 ...   \n",
       "data-science-pipeline          0.000010\n",
       "sql.mysql-overview             0.000010\n",
       "spark-execution-diagram.svg    0.000010\n",
       "4.2-compare-means              0.000010\n",
       "7.4.1-pandas-overview          0.000010\n",
       "Name: request_section, Length: 153, dtype: float64"
      ]
     },
     "execution_count": 14,
     "metadata": {},
     "output_type": "execute_result"
    }
   ],
   "source": [
    "ds.request_section.value_counts(normalize = True)"
   ]
  },
  {
   "cell_type": "markdown",
   "id": "3438fffa",
   "metadata": {},
   "source": [
    "It looks like the fundamentals section is the most trafficked lesson for data scientists.\n",
    "\n",
    "What is the most trafficked section for front end developers?"
   ]
  },
  {
   "cell_type": "code",
   "execution_count": 15,
   "id": "7a2b021e",
   "metadata": {},
   "outputs": [
    {
     "data": {
      "text/plain": [
       "content/html-css                               0.4\n",
       "/                                              0.2\n",
       "content/html-css/gitbook/images/favicon.ico    0.2\n",
       "content/html-css/introduction.html             0.2\n",
       "Name: path, dtype: float64"
      ]
     },
     "execution_count": 15,
     "metadata": {},
     "output_type": "execute_result"
    }
   ],
   "source": [
    "fe.path.value_counts(normalize = True)"
   ]
  },
  {
   "cell_type": "code",
   "execution_count": 16,
   "id": "b4415d0b",
   "metadata": {},
   "outputs": [
    {
     "data": {
      "text/plain": [
       "content    0.8\n",
       "           0.2\n",
       "Name: request_section, dtype: float64"
      ]
     },
     "execution_count": 16,
     "metadata": {},
     "output_type": "execute_result"
    }
   ],
   "source": [
    "fe.request_section.value_counts(normalize = True)"
   ]
  },
  {
   "cell_type": "markdown",
   "id": "05a38b28",
   "metadata": {},
   "source": [
    "Since there are only 5 entries for front end developers, it's pretty cut and dry. The most trafficked lesson for them is html-css."
   ]
  },
  {
   "cell_type": "markdown",
   "id": "d6a2799f",
   "metadata": {},
   "source": [
    "__Key Takeaways:__\n",
    "\n",
    "* The most trafficked lesson for java full stack web developers is javascript-i.\n",
    "* The most trafficked lesson for php full stack web developers is index.html.\n",
    "* The most trafficked lesson for data science students is fundamentals.\n",
    "* The most trafficked lesson for front end developers is html-css."
   ]
  },
  {
   "cell_type": "markdown",
   "id": "e156a951",
   "metadata": {},
   "source": [
    "### Question 2\n",
    "\n",
    "__Is there a cohort that referred to a lesson significantly more than other cohorts?__"
   ]
  },
  {
   "cell_type": "markdown",
   "id": "138e85bf",
   "metadata": {},
   "source": [
    "For java full stack web development:"
   ]
  },
  {
   "cell_type": "code",
   "execution_count": 18,
   "id": "1bab532e",
   "metadata": {},
   "outputs": [
    {
     "data": {
      "image/png": "[encoded data removed]",
      "text/plain": [
       "<Figure size 1728x864 with 2 Axes>"
      ]
     },
     "metadata": {
      "needs_background": "light"
     },
     "output_type": "display_data"
    }
   ],
   "source": [
    "plt.figure(figsize=(24,12))\n",
    "sns.heatmap(pd.crosstab(java.request_section, java.cohort))\n",
    "plt.show()"
   ]
  },
  {
   "cell_type": "markdown",
   "id": "53bc2bc6",
   "metadata": {},
   "source": [
    "It looks like the Ceres cohort referred to the javascript lesson far more than the other cohorts.\n",
    "\n",
    "Now do the same for the php full stack web developers."
   ]
  },
  {
   "cell_type": "code",
   "execution_count": 19,
   "id": "90b6d9a5",
   "metadata": {},
   "outputs": [
    {
     "data": {
      "image/png": "[encoded data removed]",
      "text/plain": [
       "<Figure size 1728x864 with 2 Axes>"
      ]
     },
     "metadata": {
      "needs_background": "light"
     },
     "output_type": "display_data"
    }
   ],
   "source": [
    "plt.figure(figsize=(24,12))\n",
    "sns.heatmap(pd.crosstab(php.request_section, php.cohort))\n",
    "plt.show()"
   ]
  },
  {
   "cell_type": "markdown",
   "id": "1e35efc0",
   "metadata": {},
   "source": [
    "Arches spent referred to javascript-i more than the other cohorts and Kings referred to content way more than the other cohorts.\n",
    "\n",
    "Now for the data science students."
   ]
  },
  {
   "cell_type": "code",
   "execution_count": 20,
   "id": "306aee93",
   "metadata": {},
   "outputs": [
    {
     "data": {
      "image/png": "[encoded data removed]",
      "text/plain": [
       "<Figure size 1440x1152 with 2 Axes>"
      ]
     },
     "metadata": {
      "needs_background": "light"
     },
     "output_type": "display_data"
    }
   ],
   "source": [
    "plt.figure(figsize=(20,16))\n",
    "sns.heatmap(pd.crosstab(ds.request_section, ds.cohort))\n",
    "plt.show()"
   ]
  },
  {
   "cell_type": "markdown",
   "id": "36807e18",
   "metadata": {},
   "source": [
    "The Darden cohort referred to the Classfication lesson far more than the other cohorts.\n",
    "\n",
    "Now for the front end developers."
   ]
  },
  {
   "cell_type": "markdown",
   "id": "d256cb64",
   "metadata": {},
   "source": [
    "__Key Takeaways__\n",
    "\n",
    "* The Ceres cohort referred to the javascript lesson far more than the other cohorts in the java full stack web development program.\n",
    "* Arches referred to javascript-i more than the other cohorts and Kings referred to content way more than the other cohorts in the php full stack web developer program.\n",
    "* The Darden cohort referred to the Classfication lesson far more than the other cohorts in the data science program.\n",
    "* There is only one cohort listed for the front end program."
   ]
  },
  {
   "cell_type": "markdown",
   "id": "74c4eef5",
   "metadata": {},
   "source": [
    "### Question 3\n",
    "\n",
    "__Are there students who, when active, hardly access the curriculum? If so, what information do you have about these students?__"
   ]
  },
  {
   "cell_type": "markdown",
   "id": "d9c48363",
   "metadata": {},
   "source": [
    "I'm assuming that 'when active' means when they are current students. To find these students, I'll create a new dataframe of only requests that were made by students when they were current."
   ]
  },
  {
   "cell_type": "code",
   "execution_count": 21,
   "id": "fe22fd18",
   "metadata": {},
   "outputs": [],
   "source": [
    "active = logs[logs.current_student == True]"
   ]
  },
  {
   "cell_type": "code",
   "execution_count": 22,
   "id": "4fcf9ce3",
   "metadata": {},
   "outputs": [
    {
     "data": {
      "text/plain": [
       "961    20\n",
       "340    18\n",
       "963    18\n",
       "968    17\n",
       "487    17\n",
       "889    16\n",
       "697    13\n",
       "572    12\n",
       "941    12\n",
       "679    11\n",
       "388     8\n",
       "812     7\n",
       "956     6\n",
       "539     5\n",
       "278     4\n",
       "832     3\n",
       "879     1\n",
       "940     1\n",
       "918     1\n",
       "619     1\n",
       "Name: user_id, dtype: int64"
      ]
     },
     "execution_count": 22,
     "metadata": {},
     "output_type": "execute_result"
    }
   ],
   "source": [
    "active.user_id.value_counts(normalize = False).tail(20)"
   ]
  },
  {
   "cell_type": "markdown",
   "id": "e460dfa9",
   "metadata": {},
   "source": [
    "The user_ids above accessed the curriculum less than or equal to 20 times while they were current students."
   ]
  },
  {
   "cell_type": "code",
   "execution_count": 23,
   "id": "c490fb96",
   "metadata": {},
   "outputs": [],
   "source": [
    "#To investigate these students, I'll take their user_ids and create a df of just them\n",
    "low_user_ids = active.user_id.value_counts(normalize = False).tail(20).index.to_list()"
   ]
  },
  {
   "cell_type": "code",
   "execution_count": 24,
   "id": "f4c3c1ac",
   "metadata": {},
   "outputs": [],
   "source": [
    "low_users = active[active.user_id.isin(low_user_ids)]"
   ]
  },
  {
   "cell_type": "code",
   "execution_count": 25,
   "id": "23e9c0a4",
   "metadata": {},
   "outputs": [
    {
     "data": {
      "text/plain": [
       "user_id  subdomain\n",
       "278      java          4\n",
       "340      java         18\n",
       "388      java          8\n",
       "487      ds           17\n",
       "539      java          5\n",
       "572      java         12\n",
       "619      java          1\n",
       "679      ds           11\n",
       "697      ds           13\n",
       "812      java          7\n",
       "832      java          3\n",
       "879      java          1\n",
       "889      java         16\n",
       "918      java          1\n",
       "940      java          1\n",
       "941      java         12\n",
       "956      java          6\n",
       "961      java         20\n",
       "963      java         18\n",
       "968      java         17\n",
       "Name: subdomain, dtype: int64"
      ]
     },
     "execution_count": 25,
     "metadata": {},
     "output_type": "execute_result"
    }
   ],
   "source": [
    "low_users.groupby('user_id').subdomain.value_counts()"
   ]
  },
  {
   "cell_type": "markdown",
   "id": "5125bd84",
   "metadata": {},
   "source": [
    "These students are mostly full stack java web developers. There are also 3 data science students."
   ]
  },
  {
   "cell_type": "code",
   "execution_count": 26,
   "id": "703d5b17",
   "metadata": {},
   "outputs": [
    {
     "data": {
      "text/plain": [
       "javascript-i          61\n",
       "html-css              34\n",
       "                      25\n",
       "appendix              19\n",
       "1-fundamentals        17\n",
       "toc                   11\n",
       "java-iii               6\n",
       "java-ii                4\n",
       "2-storytelling         2\n",
       "mysql                  2\n",
       "javascript-ii          2\n",
       "jquery                 2\n",
       "java-i                 1\n",
       "spring                 1\n",
       "13-advanced-topics     1\n",
       "3-sql                  1\n",
       "4-python               1\n",
       "search                 1\n",
       "Name: request_section, dtype: int64"
      ]
     },
     "execution_count": 26,
     "metadata": {},
     "output_type": "execute_result"
    }
   ],
   "source": [
    "low_users.request_section.value_counts()"
   ]
  },
  {
   "cell_type": "markdown",
   "id": "1f101fc7",
   "metadata": {},
   "source": [
    "These students were mostly looking for javascript-i."
   ]
  },
  {
   "cell_type": "markdown",
   "id": "002eac43",
   "metadata": {},
   "source": [
    "__Key Takeaways__\n",
    "\n",
    "* There are 20 students that accessed the curriculum less than or equal to 20 times while active.\n",
    "* These students were mostly java full stack web developers, but three of them were data scientists.\n",
    "* The most common request was for javascript-i."
   ]
  },
  {
   "cell_type": "markdown",
   "id": "ae38cf67",
   "metadata": {},
   "source": [
    "### Question 4\n",
    "\n",
    "__What topics are grads continuing to reference after graduation and into their jobs (for each program)?__"
   ]
  },
  {
   "cell_type": "markdown",
   "id": "053a7554",
   "metadata": {},
   "source": [
    "To answer this question I will form a new dataframe for each program that consists of only requests made by the graduates."
   ]
  },
  {
   "cell_type": "code",
   "execution_count": 27,
   "id": "9a7a09ce",
   "metadata": {},
   "outputs": [],
   "source": [
    "java_grads = java[java.is_graduate == True]"
   ]
  },
  {
   "cell_type": "code",
   "execution_count": 28,
   "id": "b56544a9",
   "metadata": {},
   "outputs": [],
   "source": [
    "php_grads = php[php.is_graduate == True]"
   ]
  },
  {
   "cell_type": "code",
   "execution_count": 29,
   "id": "c42a3313",
   "metadata": {},
   "outputs": [],
   "source": [
    "ds_grads = ds[ds.is_graduate == True]"
   ]
  },
  {
   "cell_type": "code",
   "execution_count": 30,
   "id": "47214a1e",
   "metadata": {},
   "outputs": [],
   "source": [
    "fe_grads = fe[fe.is_graduate == True]"
   ]
  },
  {
   "cell_type": "markdown",
   "id": "8d52abae",
   "metadata": {},
   "source": [
    "I'll start with the java graduates."
   ]
  },
  {
   "cell_type": "code",
   "execution_count": 31,
   "id": "7eba11a4",
   "metadata": {},
   "outputs": [
    {
     "data": {
      "text/plain": [
       "/                                  0.082245\n",
       "javascript-i                       0.032703\n",
       "spring                             0.031957\n",
       "search/search_index.json           0.030005\n",
       "html-css                           0.025110\n",
       "                                     ...   \n",
       "5.02_Prep                          0.000014\n",
       "5-regression/1-overview            0.000014\n",
       "2-stats/2.2-navigating-excel       0.000014\n",
       "4.6.0_DS_Libraries_Overview        0.000014\n",
       "6-regression/2-regression-excel    0.000014\n",
       "Name: path, Length: 820, dtype: float64"
      ]
     },
     "execution_count": 31,
     "metadata": {},
     "output_type": "execute_result"
    }
   ],
   "source": [
    "java_grads.path.value_counts(normalize = True)"
   ]
  },
  {
   "cell_type": "code",
   "execution_count": 32,
   "id": "e13e0459",
   "metadata": {},
   "outputs": [
    {
     "data": {
      "text/plain": [
       "spring                 0.130093\n",
       "javascript-i           0.123761\n",
       "html-css               0.090801\n",
       "                       0.082245\n",
       "mysql                  0.081459\n",
       "                         ...   \n",
       "10.02.01_ParseText     0.000014\n",
       "10.02.02_POSTagging    0.000014\n",
       "10.02.03_TFIDF         0.000014\n",
       "10.03_Explore          0.000014\n",
       "job-board              0.000014\n",
       "Name: request_section, Length: 241, dtype: float64"
      ]
     },
     "execution_count": 32,
     "metadata": {},
     "output_type": "execute_result"
    }
   ],
   "source": [
    "java_grads.request_section.value_counts(normalize = True)"
   ]
  },
  {
   "cell_type": "markdown",
   "id": "057cb2fc",
   "metadata": {},
   "source": [
    "The java full stack web developer graduates are still accessing the spring and javascript-i lessons.\n",
    "\n",
    "Now look at the php graduates."
   ]
  },
  {
   "cell_type": "code",
   "execution_count": 33,
   "id": "b6a3e078",
   "metadata": {},
   "outputs": [
    {
     "data": {
      "text/plain": [
       "/                        0.055028\n",
       "index.html               0.033095\n",
       "javascript-i             0.024093\n",
       "html-css                 0.017743\n",
       "spring                   0.016400\n",
       "                           ...   \n",
       "4.0_overview             0.000033\n",
       "4.1_introduction         0.000033\n",
       "4.4_functions            0.000033\n",
       "4.5_imports              0.000033\n",
       "ajax-api-request.html    0.000033\n",
       "Name: path, Length: 710, dtype: float64"
      ]
     },
     "execution_count": 33,
     "metadata": {},
     "output_type": "execute_result"
    }
   ],
   "source": [
    "php_grads.path.value_counts(normalize = True)"
   ]
  },
  {
   "cell_type": "code",
   "execution_count": 34,
   "id": "8dbf2719",
   "metadata": {},
   "outputs": [
    {
     "data": {
      "text/plain": [
       "content                                  0.209408\n",
       "javascript-i                             0.121383\n",
       "html-css                                 0.080627\n",
       "spring                                   0.076077\n",
       "mysql                                    0.067664\n",
       "                                           ...   \n",
       "2.00.02_Navigating_Excel                 0.000033\n",
       "2.00.05_Charts_PivotTables_Sparklines    0.000033\n",
       "2.02.00_Inferential_Stats                0.000033\n",
       "Exercises                                0.000033\n",
       "ajax-api-request.html                    0.000033\n",
       "Name: request_section, Length: 94, dtype: float64"
      ]
     },
     "execution_count": 34,
     "metadata": {},
     "output_type": "execute_result"
    }
   ],
   "source": [
    "php_grads.request_section.value_counts(normalize = True)"
   ]
  },
  {
   "cell_type": "markdown",
   "id": "e7081eb9",
   "metadata": {},
   "source": [
    "The php graduates are still accessing the content and javascript-i lessons.\n",
    "\n",
    "Now look at the data science grads."
   ]
  },
  {
   "cell_type": "code",
   "execution_count": 35,
   "id": "706e6fa8",
   "metadata": {},
   "outputs": [
    {
     "data": {
      "text/plain": [
       "/                                           0.124924\n",
       "search/search_index.json                    0.042888\n",
       "sql/mysql-overview                          0.023923\n",
       "classification/overview                     0.023140\n",
       "classification/scale_features_or_not.svg    0.019052\n",
       "                                              ...   \n",
       "DataToAction_v2.jpg                         0.000087\n",
       "advanced-topics/tidy-data                   0.000087\n",
       "10-anomaly-detection/isolation-forests      0.000087\n",
       "cli/moving-files                            0.000087\n",
       "individual-project/individual-project       0.000087\n",
       "Name: path, Length: 437, dtype: float64"
      ]
     },
     "execution_count": 35,
     "metadata": {},
     "output_type": "execute_result"
    }
   ],
   "source": [
    "ds_grads.path.value_counts(normalize = True)"
   ]
  },
  {
   "cell_type": "code",
   "execution_count": 36,
   "id": "db32c670",
   "metadata": {},
   "outputs": [
    {
     "data": {
      "text/plain": [
       "                                                  0.124924\n",
       "fundamentals                                      0.091518\n",
       "sql                                               0.090735\n",
       "classification                                    0.089952\n",
       "python                                            0.053328\n",
       "appendix                                          0.044193\n",
       "3-sql                                             0.044106\n",
       "search                                            0.042975\n",
       "1-fundamentals                                    0.040191\n",
       "anomaly-detection                                 0.039321\n",
       "6-regression                                      0.032623\n",
       "stats                                             0.032449\n",
       "timeseries                                        0.029578\n",
       "nlp                                               0.029404\n",
       "regression                                        0.029143\n",
       "7-classification                                  0.024184\n",
       "4-python                                          0.020009\n",
       "clustering                                        0.016877\n",
       "10-anomaly-detection                              0.015137\n",
       "9-timeseries                                      0.013658\n",
       "5-stats                                           0.013397\n",
       "storytelling                                      0.013049\n",
       "8-clustering                                      0.012701\n",
       "11-nlp                                            0.012614\n",
       "12-distributed-ml                                 0.011135\n",
       "advanced-topics                                   0.010004\n",
       "distributed-ml                                    0.008960\n",
       "13-advanced-topics                                0.006090\n",
       "2-storytelling                                    0.003480\n",
       "capstones                                         0.000696\n",
       "mysql                                             0.000435\n",
       "cli                                               0.000348\n",
       "Hospital-Distance-Clusters.jpg                    0.000348\n",
       "scale_features_or_not.svg                         0.000261\n",
       "Selecting_a_hypothesis_test.svg                   0.000174\n",
       "overview                                          0.000174\n",
       "classical_programming_vs_machine_learning.jpeg    0.000174\n",
       "viz.py                                            0.000087\n",
       "acquire-and-prep                                  0.000087\n",
       "prepare                                           0.000087\n",
       "AnomalyDetectionCartoon.jpeg                      0.000087\n",
       "decision-trees                                    0.000087\n",
       "spark-execution-diagram.svg                       0.000087\n",
       "spark-local-mode.svg                              0.000087\n",
       "evaluation                                        0.000087\n",
       "database-design                                   0.000087\n",
       "tidy-data                                         0.000087\n",
       "prep                                              0.000087\n",
       "creating-charts                                   0.000087\n",
       "DataToAction_v2.jpg                               0.000087\n",
       "AI-ML-DL-timeline.jpg                             0.000087\n",
       "modern-data-scientist.jpg                         0.000087\n",
       "git                                               0.000087\n",
       "spring                                            0.000087\n",
       "login                                             0.000087\n",
       "individual-project                                0.000087\n",
       "Name: request_section, dtype: float64"
      ]
     },
     "execution_count": 36,
     "metadata": {},
     "output_type": "execute_result"
    }
   ],
   "source": [
    "ds_grads.request_section.value_counts(normalize = True)"
   ]
  },
  {
   "cell_type": "markdown",
   "id": "1299b20b",
   "metadata": {},
   "source": [
    "Data science grads are accessing the fundamentals, sql, and classification lessons.\n",
    "\n",
    "Now do the front end grads."
   ]
  },
  {
   "cell_type": "code",
   "execution_count": 37,
   "id": "136dfeac",
   "metadata": {},
   "outputs": [
    {
     "data": {
      "text/plain": [
       "content/html-css                               0.4\n",
       "/                                              0.2\n",
       "content/html-css/gitbook/images/favicon.ico    0.2\n",
       "content/html-css/introduction.html             0.2\n",
       "Name: path, dtype: float64"
      ]
     },
     "execution_count": 37,
     "metadata": {},
     "output_type": "execute_result"
    }
   ],
   "source": [
    "fe_grads.path.value_counts(normalize = True)"
   ]
  },
  {
   "cell_type": "code",
   "execution_count": 38,
   "id": "5f3a8a91",
   "metadata": {},
   "outputs": [
    {
     "data": {
      "text/plain": [
       "content    0.8\n",
       "           0.2\n",
       "Name: request_section, dtype: float64"
      ]
     },
     "execution_count": 38,
     "metadata": {},
     "output_type": "execute_result"
    }
   ],
   "source": [
    "fe_grads.request_section.value_counts(normalize = True)"
   ]
  },
  {
   "cell_type": "markdown",
   "id": "bc0634f6",
   "metadata": {},
   "source": [
    "The front end grads are mostly accessing the html-css lessons."
   ]
  },
  {
   "cell_type": "markdown",
   "id": "aef2ac43",
   "metadata": {},
   "source": [
    "__Key Takeaways__\n",
    "\n",
    "* The java full stack web developer graduates are still accessing the spring and javascript-i lessons.\n",
    "* The php graduates are still accessing the content and javascript-i lessons.\n",
    "* Data science grads are accessing the fundamentals, sql, and classification lessons.\n",
    "* The front end grads are mostly accessing the html-css lessons."
   ]
  },
  {
   "cell_type": "markdown",
   "id": "6abe6989",
   "metadata": {},
   "source": [
    "### Question 5\n",
    "\n",
    "__Which lessons are least accessed?__ "
   ]
  },
  {
   "cell_type": "code",
   "execution_count": 39,
   "id": "f81dac46",
   "metadata": {},
   "outputs": [
    {
     "data": {
      "text/plain": [
       "10_Projects                                                     1\n",
       "content/javascript-with-html.html                               1\n",
       "capstone/index                                                  1\n",
       "6-regression/4-multivariate-regression-in-excel                 1\n",
       "jquery/ajax/requests-and-responses/.json                        1\n",
       "6-regression/3-univariate-regression-in-excel                   1\n",
       "codeupexercises                                                 1\n",
       "codeup-exercises                                                1\n",
       "6-regression/ordinary_least_squares.jpeg                        1\n",
       "imports                                                         1\n",
       "arash-arghavan                                                  1\n",
       "student/120                                                     1\n",
       "student/202                                                     1\n",
       "student/850                                                     1\n",
       "one                                                             1\n",
       "capstone/index.md                                               1\n",
       "PreWork/PreWork/cli                                             1\n",
       "6-regression/2-intro-to-regression                              1\n",
       "9.4_DBSCAN_to_detect_anomalies.md                               1\n",
       "students/300/notes                                              1\n",
       "code-standards/html-css                                         1\n",
       "register%20t                                                    1\n",
       "10.00_Intro                                                     1\n",
       "curie-python-assessment.html                                    1\n",
       "interview_questions                                             1\n",
       "javascript/loops                                                1\n",
       "content/control-structures-ii                                   1\n",
       "javascript-ii/promisesdfghjkjhgfs                               1\n",
       "app                                                             1\n",
       "appendix/professional-development/post-interview-review-form    1\n",
       "Name: path, dtype: int64"
      ]
     },
     "execution_count": 39,
     "metadata": {},
     "output_type": "execute_result"
    }
   ],
   "source": [
    "logs.path.value_counts().tail(30)"
   ]
  },
  {
   "cell_type": "markdown",
   "id": "0f2398a9",
   "metadata": {},
   "source": [
    "__Key Takeaway__\n",
    "\n",
    "* There are many lessons that only had a few views, but some of the most prevalent sections involve regression in excel and control-structures and promises in javascript."
   ]
  },
  {
   "cell_type": "markdown",
   "id": "6a45b525",
   "metadata": {},
   "source": [
    "***\n",
    "\n",
    "### Conclusion\n",
    "\n",
    "__Overall Findings__\n",
    "\n",
    "* The most trafficked lessons are javascript-i for full stack web developers, fundamentals for data science students, and html-css for front end developers.\n",
    "* The Ceres cohort referred to the javascript lesson far more than the other cohorts in the java full stack web development program.\n",
    "* Arches referred to javascript-i more than the other cohorts and Kings referred to content way more than the other cohorts in the php full stack web developer program.\n",
    "* The Darden cohort referred to the Classfication lesson far more than the other cohorts in the data science program.\n",
    "* There are 20 students that accessed the curriculum less than or equal to 20 times while active.\n",
    "* These students were mostly java full stack web developers, but three of them were data scientists.\n",
    "* The most common request was for javascript-i.\n",
    "* The java full stack web developer graduates are still accessing the spring and javascript-i lessons.\n",
    "* The php graduates are still accessing the content and javascript-i lessons.\n",
    "* Data science grads are accessing the fundamentals, sql, and classification lessons.\n",
    "* The front end grads are mostly accessing the html-css lessons.\n",
    "* While there are many lessons that only had a few views, some of the most prevalent sections involve regression in excel, and control-structures and promises in javascript.\n",
    "\n",
    "### With More Time...\n",
    "\n",
    "If I had more time, I would continue exploring the data to answer the other questions. I would also create more visualizations and improve the ones I already have."
   ]
  },
  {
   "cell_type": "code",
   "execution_count": null,
   "id": "1d20815f",
   "metadata": {},
   "outputs": [],
   "source": []
  }
 ],
 "metadata": {
  "kernelspec": {
   "display_name": "Python 3",
   "language": "python",
   "name": "python3"
  },
  "language_info": {
   "codemirror_mode": {
    "name": "ipython",
    "version": 3
   },
   "file_extension": ".py",
   "mimetype": "text/x-python",
   "name": "python",
   "nbconvert_exporter": "python",
   "pygments_lexer": "ipython3",
   "version": "3.9.1"
  }
 },
 "nbformat": 4,
 "nbformat_minor": 5
}
